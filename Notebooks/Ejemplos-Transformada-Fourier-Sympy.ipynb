{
 "cells": [
  {
   "cell_type": "markdown",
   "metadata": {},
   "source": [
    "# Transformada de Fourier con Sympy\n",
    "\n",
    "En este notebook usaremos el módulo de matemática simbólica `Sympy`, que incluye la función `fourier_transform`.\n",
    "\n",
    "Primero cargamos el módulo y activamos la opción para que los resultados se despliegen en forma más amigable en el notebook:"
   ]
  },
  {
   "cell_type": "code",
   "execution_count": 1,
   "metadata": {
    "collapsed": true
   },
   "outputs": [],
   "source": [
    "from sympy import *\n",
    "init_printing()"
   ]
  },
  {
   "cell_type": "markdown",
   "metadata": {},
   "source": [
    "A continuación, definimos algunas variables que usaremos, algunas de ellas definidas como reales, y otras como reales positivos"
   ]
  },
  {
   "cell_type": "code",
   "execution_count": 2,
   "metadata": {
    "collapsed": false
   },
   "outputs": [],
   "source": [
    "x, k, xi, t, omega = symbols('x, k, xi, t, omega', real=True)\n",
    "a, k0, alpha = symbols('a, k_0, alpha', positive=True)"
   ]
  },
  {
   "cell_type": "markdown",
   "metadata": {},
   "source": [
    "## Gaussiana \n",
    "\n",
    "Como primer ejemplo, definimos una gaussiana"
   ]
  },
  {
   "cell_type": "code",
   "execution_count": 3,
   "metadata": {
    "collapsed": false
   },
   "outputs": [
    {
     "data": {
      "image/png": "[encoded data removed]",
      "text/latex": [
       "$$e^{- a t^{2}}$$"
      ],
      "text/plain": [
       "     2\n",
       " -a⋅t \n",
       "ℯ     "
      ]
     },
     "execution_count": 3,
     "metadata": {},
     "output_type": "execute_result"
    }
   ],
   "source": [
    "f1 = exp(-a*t**2)\n",
    "f1"
   ]
  },
  {
   "cell_type": "markdown",
   "metadata": {},
   "source": [
    "La implementación de la función `fourier_transform` requiere ingresar como argumento la función a transformar, la variable respecto a la cual se calcula la transformada, y el valor de la *frecuencia* correspondiente. Esto significa que si queremos transformar la función $f(t)$ debemos ingresar $(f,t,\\omega/2\\pi)$ como argumento:"
   ]
  },
  {
   "cell_type": "code",
   "execution_count": 4,
   "metadata": {
    "collapsed": false
   },
   "outputs": [
    {
     "data": {
      "image/png": "[encoded data removed]",
      "text/latex": [
       "$$\\frac{\\sqrt{\\pi}}{\\sqrt{a}} e^{- \\frac{\\omega^{2}}{4 a}}$$"
      ],
      "text/plain": [
       "      2 \n",
       "    -ω  \n",
       "    ────\n",
       "    4⋅a \n",
       "√π⋅ℯ    \n",
       "────────\n",
       "   √a   "
      ]
     },
     "execution_count": 4,
     "metadata": {},
     "output_type": "execute_result"
    }
   ],
   "source": [
    "fourier_transform(f1,t,omega/(2*pi))"
   ]
  },
  {
   "cell_type": "markdown",
   "metadata": {},
   "source": [
    "## Sinusoidal amorgiuada con función gaussiana"
   ]
  },
  {
   "cell_type": "code",
   "execution_count": 5,
   "metadata": {
    "collapsed": false
   },
   "outputs": [
    {
     "data": {
      "image/png": "[encoded data removed]",
      "text/latex": [
       "$$e^{- a x^{2}} \\cos{\\left (k_{0} x \\right )}$$"
      ],
      "text/plain": [
       "     2          \n",
       " -a⋅x           \n",
       "ℯ     ⋅cos(k₀⋅x)"
      ]
     },
     "execution_count": 5,
     "metadata": {},
     "output_type": "execute_result"
    }
   ],
   "source": [
    "f2 = exp(-a*x**2)*cos(k0*x)\n",
    "f2"
   ]
  },
  {
   "cell_type": "code",
   "execution_count": 6,
   "metadata": {
    "collapsed": false
   },
   "outputs": [
    {
     "data": {
      "image/png": "[encoded data removed]",
      "text/latex": [
       "$$\\frac{\\sqrt{\\pi} \\left(e^{\\frac{k_{0} \\left|{k}\\right|}{a}} + 1\\right)}{2 \\sqrt{a} e^{\\frac{1}{4 a} \\left(k^{2} + k_{0}^{2} + 2 k_{0} \\left|{k}\\right|\\right)}}$$"
      ],
      "text/plain": [
       "                   ⎛ 2     2           ⎞ \n",
       "   ⎛ k₀⋅│k│    ⎞  -⎝k  + k₀  + 2⋅k₀⋅│k│⎠ \n",
       "   ⎜ ──────    ⎟  ───────────────────────\n",
       "   ⎜   a       ⎟            4⋅a          \n",
       "√π⋅⎝ℯ       + 1⎠⋅ℯ                       \n",
       "─────────────────────────────────────────\n",
       "                   2⋅√a                  "
      ]
     },
     "execution_count": 6,
     "metadata": {},
     "output_type": "execute_result"
    }
   ],
   "source": [
    "fourier_transform(f2,x,k/(2*pi))"
   ]
  },
  {
   "cell_type": "markdown",
   "metadata": {},
   "source": [
    "# Función escalonada"
   ]
  },
  {
   "cell_type": "code",
   "execution_count": 7,
   "metadata": {
    "collapsed": false
   },
   "outputs": [
    {
     "data": {
      "image/png": "[encoded data removed]",
      "text/latex": [
       "$$\\theta\\left(a - x\\right) \\theta\\left(a + x\\right)$$"
      ],
      "text/plain": [
       "Heaviside(a - x)⋅Heaviside(a + x)"
      ]
     },
     "execution_count": 7,
     "metadata": {},
     "output_type": "execute_result"
    }
   ],
   "source": [
    "f3 = Heaviside(x+a)*Heaviside(a-x)\n",
    "f3"
   ]
  },
  {
   "cell_type": "code",
   "execution_count": 8,
   "metadata": {
    "collapsed": false
   },
   "outputs": [
    {
     "data": {
      "image/png": "[encoded data removed]",
      "text/latex": [
       "$$\\frac{i}{k} \\left(- e^{2 i a k} + 1\\right) e^{- i a k}$$"
      ],
      "text/plain": [
       "  ⎛   2⋅ⅈ⋅a⋅k    ⎞  -ⅈ⋅a⋅k\n",
       "ⅈ⋅⎝- ℯ        + 1⎠⋅ℯ      \n",
       "──────────────────────────\n",
       "            k             "
      ]
     },
     "execution_count": 8,
     "metadata": {},
     "output_type": "execute_result"
    }
   ],
   "source": [
    "Tf3 = fourier_transform(f3,x,k/(2*pi))\n",
    "Tf3"
   ]
  },
  {
   "cell_type": "markdown",
   "metadata": {},
   "source": [
    "Esta forma debería ser equivalente a la calculada en clases. Podemos simplificarla un poco:"
   ]
  },
  {
   "cell_type": "code",
   "execution_count": 9,
   "metadata": {
    "collapsed": false
   },
   "outputs": [
    {
     "data": {
      "image/png": "[encoded data removed]",
      "text/latex": [
       "$$\\frac{2}{k} \\sin{\\left (a k \\right )}$$"
      ],
      "text/plain": [
       "2⋅sin(a⋅k)\n",
       "──────────\n",
       "    k     "
      ]
     },
     "execution_count": 9,
     "metadata": {},
     "output_type": "execute_result"
    }
   ],
   "source": [
    "simplify(Tf3.as_real_imag())[0]"
   ]
  },
  {
   "cell_type": "markdown",
   "metadata": {},
   "source": [
    "# Delta de Dirac"
   ]
  },
  {
   "cell_type": "code",
   "execution_count": 10,
   "metadata": {
    "collapsed": false
   },
   "outputs": [
    {
     "data": {
      "image/png": "[encoded data removed]",
      "text/latex": [
       "$$\\delta\\left(x - \\xi\\right)$$"
      ],
      "text/plain": [
       "DiracDelta(x - ξ)"
      ]
     },
     "execution_count": 10,
     "metadata": {},
     "output_type": "execute_result"
    }
   ],
   "source": [
    "f4 = DiracDelta(x-xi)\n",
    "f4"
   ]
  },
  {
   "cell_type": "code",
   "execution_count": 11,
   "metadata": {
    "collapsed": false
   },
   "outputs": [
    {
     "data": {
      "image/png": "[encoded data removed]",
      "text/latex": [
       "$$e^{- i k \\xi}$$"
      ],
      "text/plain": [
       " -ⅈ⋅k⋅ξ\n",
       "ℯ      "
      ]
     },
     "execution_count": 11,
     "metadata": {},
     "output_type": "execute_result"
    }
   ],
   "source": [
    "fourier_transform(f4,x,k/(2*pi))"
   ]
  }
 ],
 "metadata": {
  "kernelspec": {
   "display_name": "Python [conda root]",
   "language": "python",
   "name": "conda-root-py"
  },
  "language_info": {
   "codemirror_mode": {
    "name": "ipython",
    "version": 2
   },
   "file_extension": ".py",
   "mimetype": "text/x-python",
   "name": "python",
   "nbconvert_exporter": "python",
   "pygments_lexer": "ipython2",
   "version": "2.7.13"
  }
 },
 "nbformat": 4,
 "nbformat_minor": 1
}
