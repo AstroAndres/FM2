{
 "cells": [
  {
   "cell_type": "code",
   "execution_count": 1,
   "metadata": {
    "collapsed": false
   },
   "outputs": [],
   "source": [
    "%matplotlib inline\n",
    "from scipy.integrate import quad\n",
    "from numpy import *\n",
    "from matplotlib.pyplot import *\n",
    "style.use('classic')"
   ]
  },
  {
   "cell_type": "markdown",
   "metadata": {},
   "source": [
    "Consideramos las ecuación de onda unidimensional, con las siguientes condiciones de borde,\n",
    "\n",
    "$$\n",
    "\\psi(0,t)=0,\\qquad \\psi(L,t)=0,\\qquad \\psi(x,0)=\\psi_{0}(x),\\qquad \\frac{\\partial \\psi}{\\partial t}(x,0)=v_{0}(x),\n",
    "$$\n",
    "donde $\\psi_{0}(x)$ y $v_{0}(x)$ son funciones conocidas. Usando el MSV encontramos la solución de la forma siguiente,\n",
    "\n",
    "$$\n",
    "\\psi(x,t)=\\sum_{n =1}^{\\infty} \\left[A_{n}\\cos\\left(\\frac{n \\pi v}{L}t\\right)+B_{n}\\sin\\left(\\frac{n \\pi v}{L}t\\right)\\right] \\sin(\\frac{n\\pi x}{L}),\n",
    "$$\n",
    "con los coeficientes $A_{n}$ y $B_{n}$ dados por\n",
    "\n",
    "$$\n",
    "A_{n}=\\frac{2}{L}\\int_{0}^{L} \\psi_{0}(x)\\sin(\\frac{k\\pi x}{L})dx, \\qquad\n",
    "B_{n}=\\frac{2}{n \\pi v}\\int_{0}^{L} v_{0}(x)\\sin(\\frac{k\\pi x}{L})dx.\n",
    "$$"
   ]
  },
  {
   "cell_type": "markdown",
   "metadata": {},
   "source": [
    "## Ejemplo\n",
    "\n",
    "Consideremos el caso en que $\\psi_0(x)=0$ y \n",
    "\n",
    "$$\n",
    "v_0(x)=\\left\\{\\begin{array}{cl} V\\cos\\left(\\frac{\\pi(x-\\xi)}{d}\\right), & \\text{para }|x-\\xi|<d/2 \\\\\n",
    "0, & \\text{para }|x-\\xi|>d/2\n",
    "\\end{array}.\\right.\n",
    "$$\n",
    "\n",
    "En este caso, $A_n=0$, mientras que los coeficientes $B_n$ serán calculados numéricamente."
   ]
  },
  {
   "cell_type": "markdown",
   "metadata": {},
   "source": [
    "## Cálculo numérico de coeficientes y solución:"
   ]
  },
  {
   "cell_type": "markdown",
   "metadata": {},
   "source": [
    "Definimos la función $v_{0}(x)$."
   ]
  },
  {
   "cell_type": "code",
   "execution_count": 2,
   "metadata": {
    "collapsed": false
   },
   "outputs": [],
   "source": [
    "L = 1. # largo de la cuerda\n",
    "xi = 0.7 \n",
    "d = 0.3 \n",
    "v = 1. # velocidad de la onda\n",
    "V = 1.\n",
    "\n",
    "def v0(x):\n",
    "    if abs(x-xi)<(d/2.):\n",
    "        return V*cos(pi*(x-xi)/d)\n",
    "    else:\n",
    "        return 0"
   ]
  },
  {
   "cell_type": "markdown",
   "metadata": {},
   "source": [
    "Los coeficientes $B_{n}$ se calculan numéricamente usando la función `quad` de Numpy:"
   ]
  },
  {
   "cell_type": "code",
   "execution_count": 3,
   "metadata": {
    "collapsed": false
   },
   "outputs": [],
   "source": [
    "def integrando_b(x,n):\n",
    "    return v0(x)*sin(((n*pi)/L)*x)\n",
    "def B(n):\n",
    "    return (2/(n*pi*v))*quad(integrando_b,0, L, args=n)[0]"
   ]
  },
  {
   "cell_type": "markdown",
   "metadata": {},
   "source": [
    "Por ejemplo, el término $B_7$ es dado por"
   ]
  },
  {
   "cell_type": "code",
   "execution_count": 4,
   "metadata": {
    "collapsed": false
   },
   "outputs": [
    {
     "data": {
      "text/plain": [
       "0.0015546454953414815"
      ]
     },
     "execution_count": 4,
     "metadata": {},
     "output_type": "execute_result"
    }
   ],
   "source": [
    "B(7)"
   ]
  },
  {
   "cell_type": "markdown",
   "metadata": {},
   "source": [
    "Ahora definimos la suma parcial $S(n_{\\rm max},x,t)$ dada pr\n",
    "\n",
    "$$\n",
    "S(n_{\\rm max},x,t)=\\sum_{n =1}^{n_{\\rm max}}B_{n}\\sin\\left(\\frac{n \\pi v}{L}t\\right)\\sin(\\frac{n\\pi x}{L}).\n",
    "$$"
   ]
  },
  {
   "cell_type": "code",
   "execution_count": 5,
   "metadata": {
    "collapsed": false
   },
   "outputs": [],
   "source": [
    "def S(nmax,x,t):\n",
    "    S = 0\n",
    "    for n in range(1,nmax+1):\n",
    "        S = S + B(n)*sin(((n*pi*v)/L)*t)*sin(((n*pi)/L)*x)\n",
    "    return S"
   ]
  },
  {
   "cell_type": "markdown",
   "metadata": {},
   "source": [
    "Y preparamos el gráfico correspondiente a cada valor de $t$:"
   ]
  },
  {
   "cell_type": "code",
   "execution_count": 6,
   "metadata": {
    "collapsed": true
   },
   "outputs": [],
   "source": [
    "nmax = 100\n",
    "x = linspace(0,L,1000)"
   ]
  },
  {
   "cell_type": "code",
   "execution_count": 7,
   "metadata": {
    "collapsed": false
   },
   "outputs": [],
   "source": [
    "def g(t):\n",
    "    plot(x,S(nmax,x,t),label='$\\Psi(x,%4.2f)$'%t)\n",
    "    xlim(0,L)\n",
    "    ylim(-1,1)\n",
    "    xticks([0,L,xi,xi-d/2.,xi+d/2.],['$0$','$L$',r'$\\xi$',r'$\\xi-d/2$',r'$\\xi+d/2$'])\n",
    "    #yticks([-A,0,A],['$-A$','$0$','$A$'])\n",
    "    yticks([])\n",
    "    grid()\n",
    "    legend()\n",
    "    title('Cuerda con extremos fijos')\n",
    "    xlabel('$x$',fontsize=15)\n",
    "    ylabel('$\\Psi(x,t)$',fontsize=15)"
   ]
  },
  {
   "cell_type": "code",
   "execution_count": 8,
   "metadata": {
    "collapsed": false
   },
   "outputs": [
    {
     "name": "stderr",
     "output_type": "stream",
     "text": [
      "/home/gr/anaconda2/lib/python2.7/site-packages/scipy/integrate/quadpack.py:356: IntegrationWarning: The integral is probably divergent, or slowly convergent.\n",
      "  warnings.warn(msg, IntegrationWarning)\n"
     ]
    },
    {
     "data": {
      "image/png": "[encoded data removed]",
      "text/plain": [
       "<matplotlib.figure.Figure at 0x7fc19e901410>"
      ]
     },
     "metadata": {},
     "output_type": "display_data"
    }
   ],
   "source": [
    "g(0.2)"
   ]
  },
  {
   "cell_type": "markdown",
   "metadata": {},
   "source": [
    "Ahora, en forma interactiva..."
   ]
  },
  {
   "cell_type": "code",
   "execution_count": 9,
   "metadata": {
    "collapsed": false
   },
   "outputs": [],
   "source": [
    "from ipywidgets import interact"
   ]
  },
  {
   "cell_type": "code",
   "execution_count": 10,
   "metadata": {
    "collapsed": false
   },
   "outputs": [
    {
     "data": {
      "text/plain": [
       "<function __main__.g>"
      ]
     },
     "execution_count": 10,
     "metadata": {},
     "output_type": "execute_result"
    },
    {
     "data": {
      "image/png": "[encoded data removed]",
      "text/plain": [
       "<matplotlib.figure.Figure at 0x7fc19b1ab590>"
      ]
     },
     "metadata": {},
     "output_type": "display_data"
    }
   ],
   "source": [
    "interact(g,t=(0,2,0.01))"
   ]
  },
  {
   "cell_type": "markdown",
   "metadata": {},
   "source": [
    "Finalmente, podemos crear una animación:"
   ]
  },
  {
   "cell_type": "code",
   "execution_count": 11,
   "metadata": {
    "collapsed": false
   },
   "outputs": [],
   "source": [
    "from matplotlib.animation import FuncAnimation"
   ]
  },
  {
   "cell_type": "code",
   "execution_count": 12,
   "metadata": {
    "collapsed": false
   },
   "outputs": [
    {
     "name": "stderr",
     "output_type": "stream",
     "text": [
      "/home/gr/anaconda2/lib/python2.7/site-packages/matplotlib/axes/_axes.py:545: UserWarning: No labelled objects found. Use label='...' kwarg on individual plots.\n",
      "  warnings.warn(\"No labelled objects found. \"\n"
     ]
    },
    {
     "data": {
      "image/png": "[encoded data removed]",
      "text/plain": [
       "<matplotlib.figure.Figure at 0x7fc19b54f310>"
      ]
     },
     "metadata": {},
     "output_type": "display_data"
    }
   ],
   "source": [
    "fig, ax = subplots()\n",
    "\n",
    "ax.set_ylim(-1,1)\n",
    "ax.grid()\n",
    "ax.set_xlim(0,L)\n",
    "ax.set_xlabel('$x$',fontsize=15)\n",
    "ax.set_ylabel('$\\Psi(x,t)$',fontsize=15)\n",
    "#ax.yticks([])\n",
    "#ax.xticks([0,L,xi,xi-d/2.,xi+d/2.],['$0$','$L$',r'$\\xi$',r'$\\xi-d/2$',r'$\\xi+d/2$'])\n",
    "ax.legend()\n",
    "ax.set_title('Cuerda con extremos fijos, $t=0$')\n",
    "\n",
    "line = ax.plot(x,S(nmax,x,0))[0]\n",
    "\n",
    "def animate(i):\n",
    "    t = 0.05*i\n",
    "    ax.set_title(ur'Cuerda con extremos fijos, $t=%.1f$' %t)\n",
    "    line.set_ydata(S(nmax,x,t))\n",
    "    \n",
    "anim = FuncAnimation(fig, animate, interval=100, frames=40) #100 msec entre frames\n",
    "\n",
    "anim.save('fig-cuerda-1D-01.gif', writer='imagemagick')"
   ]
  }
 ],
 "metadata": {
  "kernelspec": {
   "display_name": "Python [default]",
   "language": "python",
   "name": "python2"
  },
  "language_info": {
   "codemirror_mode": {
    "name": "ipython",
    "version": 2
   },
   "file_extension": ".py",
   "mimetype": "text/x-python",
   "name": "python",
   "nbconvert_exporter": "python",
   "pygments_lexer": "ipython2",
   "version": "2.7.13"
  },
  "widgets": {
   "state": {
    "670ad00396824131a0c41268fb95aa5d": {
     "views": [
      {
       "cell_index": 18
      }
     ]
    }
   },
   "version": "1.2.0"
  }
 },
 "nbformat": 4,
 "nbformat_minor": 0
}
