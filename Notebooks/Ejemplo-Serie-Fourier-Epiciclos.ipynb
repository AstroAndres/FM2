{
 "cells": [
  {
   "cell_type": "markdown",
   "metadata": {},
   "source": [
    "# Epiciclos y series de Fourier\n",
    "\n",
    "El código usado en este notebook ha sido adaptado desde la versión original disponible [aquí](https://github.com/WiraDKP/Discrete_Fourier_Transform_Epicycle).\n",
    "\n",
    "Una introducción general a los epiciclos y su historia puede encontrarse en la correspondiente página en [Wikipedia](https://es.wikipedia.org/wiki/Epiciclo). Un buen video  (en inglés) con más detalles puede encontrarse [aquí](https://www.youtube.com/watch?v=qS4H6PEcCCA):\n",
    "\n",
    "Primero cargamos las funciones en el módulo `presentation`, donde se implementan funciones que calculan los coeficientes de Fourier, el cálculo de la serie de Fourier truncada, y el código que genera la animación de los epiciclos."
   ]
  },
  {
   "cell_type": "code",
   "execution_count": 1,
   "metadata": {},
   "outputs": [],
   "source": [
    "from presentation import *\n",
    "import numpy as np"
   ]
  },
  {
   "cell_type": "markdown",
   "metadata": {},
   "source": [
    "# Ejemplo 1: Un cuadrado"
   ]
  },
  {
   "cell_type": "code",
   "execution_count": 2,
   "metadata": {},
   "outputs": [],
   "source": [
    "t = np.array([0.,1,2,3,4])\n",
    "x = [-10.,10,10,-10,-10]\n",
    "y = [-10.,-10,10,10,-10]"
   ]
  },
  {
   "cell_type": "markdown",
   "metadata": {},
   "source": [
    "# Ejemplo 2: Elipse"
   ]
  },
  {
   "cell_type": "code",
   "execution_count": 3,
   "metadata": {},
   "outputs": [],
   "source": [
    "#t = np.linspace(0,2*np.pi,1000)\n",
    "#a = 1\n",
    "#e = 0.5\n",
    "#r = a*(1-e**2)/(1+e*np.cos(t))"
   ]
  },
  {
   "cell_type": "markdown",
   "metadata": {},
   "source": [
    "# Ejemplo 3: Corazón\n",
    "\n",
    "$$\n",
    "r(\\varphi) = \\frac{\\sin(\\varphi)\\sqrt{|\\cos(\\varphi)|}}{\\sin(\\varphi)+\\frac{7}{5}}-2\\sin(\\varphi)+2\n",
    "$$"
   ]
  },
  {
   "cell_type": "code",
   "execution_count": 4,
   "metadata": {},
   "outputs": [],
   "source": [
    "#t = np.linspace(0,2*np.pi,1000)\n",
    "#r = np.sin(t)*np.sqrt(np.abs(np.cos(t)))/(np.sin(t)+7/5.)-2*np.sin(t)+2"
   ]
  },
  {
   "cell_type": "code",
   "execution_count": 5,
   "metadata": {},
   "outputs": [],
   "source": [
    "#x = r*np.cos(t)\n",
    "#y = r*np.sin(t)"
   ]
  },
  {
   "cell_type": "code",
   "execution_count": 6,
   "metadata": {},
   "outputs": [
    {
     "data": {
      "image/png": "[encoded data removed]",
      "text/plain": [
       "<matplotlib.figure.Figure at 0x7f936c04d748>"
      ]
     },
     "metadata": {},
     "output_type": "display_data"
    }
   ],
   "source": [
    "fig, ax = plt.subplots()\n",
    "ax.set_aspect('equal')\n",
    "ax.plot(x,y, 'k-')\n",
    "ax.plot(0,0,'x')\n",
    "plt.show()"
   ]
  },
  {
   "cell_type": "markdown",
   "metadata": {},
   "source": [
    "## Calcula los coeficientes de Fourier"
   ]
  },
  {
   "cell_type": "code",
   "execution_count": 7,
   "metadata": {
    "scrolled": true
   },
   "outputs": [
    {
     "name": "stdout",
     "output_type": "stream",
     "text": [
      "n =  -10 :  (1.942890293094024e-16+9.71445146547012e-16j)\n",
      "n =  -9 :  (9.228728892196614e-16+7.91033905045424e-16j)\n",
      "n =  -8 :  (4.718447854656915e-16-5.551115123125783e-17j)\n",
      "n =  -7 :  (-0.16542234064055097-0.16542234064054973j)\n",
      "n =  -6 :  (1.4611613694881362e-17-1.138748010721125e-15j)\n",
      "n =  -5 :  (-9.992007221626409e-16+2.220446049250313e-16j)\n",
      "n =  -4 :  (1.6628223402624702e-15+4.3113298712874305e-17j)\n",
      "n =  -3 :  (-0.9006327434874463-0.9006327434874457j)\n",
      "n =  -2 :  (-3.3306690738754696e-16+9.992007221626409e-16j)\n",
      "n =  -1 :  (-2.220446049250313e-16-2.220446049250313e-16j)\n",
      "n =  0 :  (4.8687569630740856e-17+1.8448044904118425e-17j)\n",
      "n =  1 :  (-8.105694691387022-8.105694691387022j)\n",
      "n =  2 :  (5.926673810494577e-16+8.111619621110057e-16j)\n",
      "n =  3 :  (4.440892098500626e-16+2.220446049250313e-16j)\n",
      "n =  4 :  (1.9984014443252818e-15-1.1102230246251565e-16j)\n",
      "n =  5 :  (-0.32422778765548077-0.32422778765548077j)\n",
      "n =  6 :  (-1.2532486391652197e-15+1.5918911790160253e-15j)\n",
      "n =  7 :  (2.220446049250313e-16-1.27675647831893e-15j)\n",
      "n =  8 :  (1.1657341758564144e-15+1.3877787807814457e-16j)\n",
      "n =  9 :  (-0.10007030483194014-0.10007030483193963j)\n",
      "n =  10 :  (3.83026943495679e-15-2.914335439641036e-15j)\n"
     ]
    }
   ],
   "source": [
    "tau = max(t)-min(t)\n",
    "order = 10\n",
    "coef = coef_list(t, x, y, order)\n",
    "for id,n in enumerate(range(-order,order+1)):\n",
    "    print('n = ',str(n),': ',coef[id])"
   ]
  },
  {
   "cell_type": "markdown",
   "metadata": {},
   "source": [
    "## Evalúa serie Truncada"
   ]
  },
  {
   "cell_type": "code",
   "execution_count": 8,
   "metadata": {},
   "outputs": [],
   "source": [
    "space = np.linspace(min(t), max(t), 300)\n",
    "x_Sn, y_Sn = Sn(space, coef, order)"
   ]
  },
  {
   "cell_type": "markdown",
   "metadata": {},
   "source": [
    "## Gráfico"
   ]
  },
  {
   "cell_type": "code",
   "execution_count": 9,
   "metadata": {
    "scrolled": false
   },
   "outputs": [
    {
     "data": {
      "image/png": "[encoded data removed]",
      "text/plain": [
       "<matplotlib.figure.Figure at 0x7f936bab5a58>"
      ]
     },
     "metadata": {},
     "output_type": "display_data"
    }
   ],
   "source": [
    "fig, ax = plt.subplots()\n",
    "ax.plot(x_Sn, y_Sn, 'r--')\n",
    "ax.plot(x, y, 'k-')\n",
    "ax.set_aspect('equal')\n",
    "xmin, xmax = plt.xlim()\n",
    "ymin, ymax = plt.ylim()\n",
    "plt.show()"
   ]
  },
  {
   "cell_type": "markdown",
   "metadata": {},
   "source": [
    "## Crea animación"
   ]
  },
  {
   "cell_type": "code",
   "execution_count": 10,
   "metadata": {},
   "outputs": [],
   "source": [
    "anim = visualize(x_Sn, y_Sn, tau, coef, order, space, [xmin, xmax, ymin, ymax])\n",
    "#Writer = animation.writers['html']\n",
    "Writer = animation.writers['ffmpeg']\n",
    "writer = Writer(fps=60)\n",
    "anim.save('ani.mp4',writer=writer, dpi=150)"
   ]
  }
 ],
 "metadata": {
  "kernelspec": {
   "display_name": "Python 3",
   "language": "python",
   "name": "python3"
  },
  "language_info": {
   "codemirror_mode": {
    "name": "ipython",
    "version": 3
   },
   "file_extension": ".py",
   "mimetype": "text/x-python",
   "name": "python",
   "nbconvert_exporter": "python",
   "pygments_lexer": "ipython3",
   "version": "3.6.8"
  }
 },
 "nbformat": 4,
 "nbformat_minor": 2
}
